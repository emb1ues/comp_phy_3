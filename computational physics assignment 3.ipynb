{
 "cells": [
  {
   "cell_type": "code",
   "execution_count": 1,
   "id": "361f8a2d",
   "metadata": {},
   "outputs": [],
   "source": [
    "import numpy as np\n",
    "import matplotlib.pyplot as plt"
   ]
  },
  {
   "cell_type": "markdown",
   "id": "1e223c1e",
   "metadata": {},
   "source": [
    "# Question 1: Monte Carlo Integral"
   ]
  },
  {
   "cell_type": "code",
   "execution_count": 2,
   "id": "0a4a03ac",
   "metadata": {},
   "outputs": [],
   "source": [
    "# random number generator\n",
    "def rand_number_generator(x):\n",
    "    #a and m are hardcoded\n",
    "    a = 65\n",
    "    m = 1\n",
    "    num = (a*x)%m\n",
    "    return num\n",
    "\n",
    "def rand_numbers(N, seed):\n",
    "    numbers = np.zeros(N)\n",
    "    for i in range(N):\n",
    "        if i == 0:\n",
    "            value = rand_number_generator(seed)\n",
    "        else:\n",
    "            value = rand_number_generator(value)\n",
    "        numbers[i] = value\n",
    "    \n",
    "    return numbers"
   ]
  },
  {
   "cell_type": "code",
   "execution_count": 3,
   "id": "02a6f25f",
   "metadata": {},
   "outputs": [],
   "source": [
    "def monteCarlo(func, N):\n",
    "    \n",
    "    randnums = rand_numbers(N, 234.34)\n",
    "\n",
    "    total = 0\n",
    "    for i in randnums:\n",
    "        total += func(i)\n",
    "\n",
    "    total /= N \n",
    "\n",
    "    return total"
   ]
  },
  {
   "cell_type": "code",
   "execution_count": 4,
   "id": "cd32bb56",
   "metadata": {},
   "outputs": [],
   "source": [
    "def f(x):\n",
    "    return np.exp(-x**2)\n",
    "\n",
    "#for importance sampling\n",
    "def p(x, alpha):\n",
    "    return alpha * np.exp(-x)"
   ]
  },
  {
   "cell_type": "markdown",
   "id": "b3aa84f9",
   "metadata": {},
   "source": [
    "### Without importance sampling"
   ]
  },
  {
   "cell_type": "code",
   "execution_count": 5,
   "id": "7e8125e7",
   "metadata": {},
   "outputs": [
    {
     "data": {
      "text/plain": [
       "0.7459725214732348"
      ]
     },
     "execution_count": 5,
     "metadata": {},
     "output_type": "execute_result"
    }
   ],
   "source": [
    "# Without importance sampling\n",
    "integral = monteCarlo(f, 10000)\n",
    "integral"
   ]
  },
  {
   "cell_type": "markdown",
   "id": "b86cb0d2",
   "metadata": {},
   "source": [
    "### With importance sampling"
   ]
  },
  {
   "cell_type": "code",
   "execution_count": 6,
   "id": "c41a2e09",
   "metadata": {},
   "outputs": [
    {
     "data": {
      "text/plain": [
       "0.7553025885846628"
      ]
     },
     "execution_count": 6,
     "metadata": {},
     "output_type": "execute_result"
    }
   ],
   "source": [
    "# With importance sampling\n",
    "def g(x, alpha=1):\n",
    "    return f(-np.log(1 - x/alpha)) / p(x, alpha)\n",
    "\n",
    "integral_imp_sampled = monteCarlo(g, 10000)\n",
    "integral_imp_sampled"
   ]
  },
  {
   "cell_type": "markdown",
   "id": "d044bc7f",
   "metadata": {},
   "source": [
    "# Question 2: Schrodinger Equation in finite well"
   ]
  },
  {
   "cell_type": "code",
   "execution_count": 7,
   "id": "f587dd1b",
   "metadata": {},
   "outputs": [],
   "source": [
    "def lagrange_interpolation(zeta_h, zeta_l, yh, yl, y):\n",
    "    return zeta_l + (zeta_h - zeta_l) * (y - yl) / (yh - yl)\n",
    "\n",
    "def rk(de, step_size):\n",
    "    d2ydx2, dydx, x0, y0, z0, xf = de\n",
    "    \n",
    "    x = []\n",
    "    y = []\n",
    "    z = []  # dy/dx\n",
    "    x.append(x0)\n",
    "    y.append(y0)\n",
    "    z.append(z0)\n",
    "\n",
    "    n = int((xf - x0) / step_size)  # no. of steps\n",
    "    for i in range(n):\n",
    "        x.append(x[i] + step_size)\n",
    "        k1 = step_size * dydx(x[i], y[i], z[i])\n",
    "        l1 = step_size * d2ydx2(x[i], y[i], z[i])\n",
    "        k2 = step_size * dydx(x[i] + step_size / 2, y[i] + k1 / 2, z[i] + l1 / 2)\n",
    "        l2 = step_size * d2ydx2(x[i] + step_size / 2, y[i] + k1 / 2, z[i] + l1 / 2)\n",
    "        k3 = step_size * dydx(x[i] + step_size / 2, y[i] + k2 / 2, z[i] + l2 / 2)\n",
    "        l3 = step_size * d2ydx2(x[i] + step_size / 2, y[i] + k2 / 2, z[i] + l2 / 2)\n",
    "        k4 = step_size * dydx(x[i] + step_size, y[i] + k3, z[i] + l3)\n",
    "        l4 = step_size * d2ydx2(x[i] + step_size, y[i] + k3, z[i] + l3)\n",
    "\n",
    "        y.append(y[i] + (k1 + 2 * k2 + 2 * k3 + k4) / 6)\n",
    "        z.append(z[i] + (l1 + 2 * l2 + 2 * l3 + l4) / 6)\n",
    "\n",
    "    return x, y, z\n",
    "\n",
    "def shooting_method_normaliized(de, step_size, tol=1e-6):\n",
    "    #z is dy/dx\n",
    "    d2ydx2, dydx, x0, y0, xf, yf, z_guess1, z_guess2 = de\n",
    "    \n",
    "    rk_de = [d2ydx2, dydx, x0, y0, z_guess1, xf]\n",
    "    x, y, z = rk(rk_de, step_size)\n",
    "    yn = y[-1]\n",
    "\n",
    "    if abs(yn - yf) > tol:\n",
    "        if yn < yf:\n",
    "            zeta_l = z_guess1\n",
    "            yl = yn\n",
    "            \n",
    "            rk_de = [d2ydx2, dydx, x0, y0, z_guess2, xf]\n",
    "            x, y, z = rk(rk_de, step_size)\n",
    "            yn = y[-1]\n",
    "\n",
    "            if yn > yf:\n",
    "                zeta_h = z_guess2\n",
    "                yh = yn\n",
    "\n",
    "                # calculate zeta using Lagrange interpolation\n",
    "                zeta = lagrange_interpolation(zeta_h, zeta_l, yh, yl, yf)\n",
    "\n",
    "                # using this zeta to solve using RK4\n",
    "                rk_de = [d2ydx2, dydx, x0, y0, zeta, xf]\n",
    "                x, y, z = rk(rk_de, step_size)\n",
    "                print(\"solution found\")\n",
    "                y = y/np.linalg.norm(y)\n",
    "                return x, y, z\n",
    "\n",
    "            else:\n",
    "                raise Exception(\"Failed. Choose another guess set.\")\n",
    "\n",
    "        elif yn > yf:\n",
    "            zeta_h = z_guess1\n",
    "            yh = yn\n",
    "\n",
    "            rk_de = [d2ydx2, dydx, x0, y0, z_guess2, xf]\n",
    "            x, y, z = rk(rk_de, step_size)\n",
    "            yn = y[-1]\n",
    "\n",
    "            if yn < yf:\n",
    "                zeta_l = z_guess2\n",
    "                yl = yn\n",
    "\n",
    "                # calculate zeta using Lagrange interpolation\n",
    "                zeta = lagrange_interpolation(zeta_h, zeta_l, yh, yl, yf)\n",
    "                \n",
    "                rk_de = [d2ydx2, dydx, x0, y0, zeta, xf]\n",
    "                x, y, z = rk(rk_de, step_size)\n",
    "                y = y/np.linalg.norm(y)\n",
    "                print(\"solution found\")\n",
    "                return x, y, z\n",
    "\n",
    "            else:\n",
    "                raise Exception(\"Failed. Choose another guess set.\")\n",
    "\n",
    "    else:\n",
    "        y = y/np.linalg.norm(y)\n",
    "        print(\"solution found\")\n",
    "        return x, y, z "
   ]
  },
  {
   "cell_type": "code",
   "execution_count": 8,
   "id": "7f215c7b",
   "metadata": {},
   "outputs": [
    {
     "name": "stdout",
     "output_type": "stream",
     "text": [
      "solution found\n",
      "solution found\n"
     ]
    }
   ],
   "source": [
    "E1 = np.pi**2\n",
    "E2 = 4 * E1\n",
    "\n",
    "x0, xf = [0.0, 1.0]\n",
    "y0, yf = [0.0, 0.0]\n",
    "z1_guess1, z1_guess2 = [3.0, 0.0]\n",
    "z2_guess1, z2_guess2 = [-1.0, 3.0]\n",
    "dx = 0.02\n",
    "\n",
    "def dzdx1(x, y, z):\n",
    "    return -E1 * y\n",
    "def dzdx2(x, y, z):\n",
    "    return -E2 * y\n",
    "def dydx(x, y, z):\n",
    "    return z\n",
    "\n",
    "params1 = [dzdx1, dydx, x0, y0, xf, yf, z1_guess1, z1_guess2]\n",
    "params2 = [dzdx2, dydx, x0, y0, xf, yf, z2_guess1, z2_guess2]\n",
    "x1, y1, z1 = shooting_method_normaliized(params1, dx)\n",
    "x2, y2, z2 = shooting_method_normaliized(params2, dx)"
   ]
  },
  {
   "cell_type": "code",
   "execution_count": 9,
   "id": "7195bf3b",
   "metadata": {},
   "outputs": [
    {
     "data": {
      "image/png": "[encoded data removed]",
      "text/plain": [
       "<Figure size 432x288 with 1 Axes>"
      ]
     },
     "metadata": {
      "needs_background": "light"
     },
     "output_type": "display_data"
    }
   ],
   "source": [
    "plt.plot(x1, y1, label=\"n=1\")\n",
    "plt.plot(x2, y2, label=\"n=2\")\n",
    "plt.legend()\n",
    "plt.show()"
   ]
  },
  {
   "cell_type": "markdown",
   "id": "40959bdb",
   "metadata": {},
   "source": [
    "# Question 3: Laplace Equation"
   ]
  },
  {
   "cell_type": "code",
   "execution_count": 10,
   "id": "a4c70c9f",
   "metadata": {},
   "outputs": [],
   "source": [
    "def jacobi(u0, lim = 50):\n",
    "    u = u0.copy()\n",
    "    run = 0\n",
    "    while run <= lim:\n",
    "        for i in range(1, n):\n",
    "            for j in range(1, n):\n",
    "                u[i][j] = 1/4 * (u0[i][j+1] + u0[i][j-1] + u0[i+1][j] + u0[i-1][j])\n",
    "                u0[i][j] = u[i][j]\n",
    "\n",
    "        run += 1\n",
    "        \n",
    "    return u\n",
    "\n",
    "def laplace(l, n, boundary_conditions, lim = 50):\n",
    "    xb0, xb1, yb0, yb1 = boundary_conditions\n",
    "\n",
    "    dx = l/n\n",
    "    dy = l/n\n",
    "\n",
    "    u0 = [[0 for i in range(n+1)] for j in range(n+1)]  \n",
    "    x = [i * dx for i in range(n+1)]\n",
    "    y = [j * dy for j in range(n+1)]\n",
    "\n",
    "    # boundary conditions\n",
    "    for i in range(n+1):\n",
    "        u0[0][i] = xb0\n",
    "        u0[n][i] = xb1\n",
    "        u0[i][0] = yb0\n",
    "        u0[i][n] = yb1\n",
    "\n",
    "    u = jacobi(u0, lim)\n",
    "\n",
    "    return u, x, y"
   ]
  },
  {
   "cell_type": "code",
   "execution_count": 11,
   "id": "ff35b175",
   "metadata": {},
   "outputs": [
    {
     "data": {
      "image/png": "[encoded data removed]",
      "text/plain": [
       "<Figure size 432x288 with 1 Axes>"
      ]
     },
     "metadata": {
      "needs_background": "light"
     },
     "output_type": "display_data"
    }
   ],
   "source": [
    "l = 1.0\n",
    "n = 50\n",
    "boundary_conditions = [1.0, 0.0, 0.0, 0.0]\n",
    "\n",
    "u, x, y = laplace(l, n, boundary_conditions, 1000)\n",
    "plt.imshow(u)\n",
    "plt.title(\"2D Laplace equation\")\n",
    "plt.show()"
   ]
  },
  {
   "cell_type": "code",
   "execution_count": null,
   "id": "3e3ff1e6",
   "metadata": {},
   "outputs": [],
   "source": []
  }
 ],
 "metadata": {
  "kernelspec": {
   "display_name": "Python 3 (ipykernel)",
   "language": "python",
   "name": "python3"
  },
  "language_info": {
   "codemirror_mode": {
    "name": "ipython",
    "version": 3
   },
   "file_extension": ".py",
   "mimetype": "text/x-python",
   "name": "python",
   "nbconvert_exporter": "python",
   "pygments_lexer": "ipython3",
   "version": "3.9.6"
  }
 },
 "nbformat": 4,
 "nbformat_minor": 5
}
